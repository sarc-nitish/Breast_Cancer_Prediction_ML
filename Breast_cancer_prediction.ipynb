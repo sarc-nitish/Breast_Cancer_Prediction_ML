{
 "cells": [
  {
   "cell_type": "code",
   "execution_count": 72,
   "id": "3769e445-50e1-4e46-a5ba-edb2a8ebd035",
   "metadata": {},
   "outputs": [],
   "source": [
    "import numpy as np\n",
    "import pandas as pd\n",
    "import matplotlib.pyplot as plt\n",
    "import sklearn.datasets\n",
    "from sklearn.model_selection import train_test_split"
   ]
  },
  {
   "cell_type": "code",
   "execution_count": 73,
   "id": "ae9b627e-3b96-43a2-8471-37da70e008af",
   "metadata": {},
   "outputs": [],
   "source": [
    "data_frame= pd.read_csv('Breast_Cancer_data.csv')"
   ]
  },
  {
   "cell_type": "code",
   "execution_count": 74,
   "id": "382756ad-c6d4-4105-919d-51053bae01d5",
   "metadata": {},
   "outputs": [
    {
     "name": "stdout",
     "output_type": "stream",
     "text": [
      "           id diagnosis  radius_mean  texture_mean  perimeter_mean  area_mean  \\\n",
      "0      842302         M        17.99         10.38          122.80     1001.0   \n",
      "1      842517         M        20.57         17.77          132.90     1326.0   \n",
      "2    84300903         M        19.69         21.25          130.00     1203.0   \n",
      "3    84348301         M        11.42         20.38           77.58      386.1   \n",
      "4    84358402         M        20.29         14.34          135.10     1297.0   \n",
      "..        ...       ...          ...           ...             ...        ...   \n",
      "564    926424         M        21.56         22.39          142.00     1479.0   \n",
      "565    926682         M        20.13         28.25          131.20     1261.0   \n",
      "566    926954         M        16.60         28.08          108.30      858.1   \n",
      "567    927241         M        20.60         29.33          140.10     1265.0   \n",
      "568     92751         B         7.76         24.54           47.92      181.0   \n",
      "\n",
      "     smoothness_mean  compactness_mean  concavity_mean  concave points_mean  \\\n",
      "0            0.11840           0.27760         0.30010              0.14710   \n",
      "1            0.08474           0.07864         0.08690              0.07017   \n",
      "2            0.10960           0.15990         0.19740              0.12790   \n",
      "3            0.14250           0.28390         0.24140              0.10520   \n",
      "4            0.10030           0.13280         0.19800              0.10430   \n",
      "..               ...               ...             ...                  ...   \n",
      "564          0.11100           0.11590         0.24390              0.13890   \n",
      "565          0.09780           0.10340         0.14400              0.09791   \n",
      "566          0.08455           0.10230         0.09251              0.05302   \n",
      "567          0.11780           0.27700         0.35140              0.15200   \n",
      "568          0.05263           0.04362         0.00000              0.00000   \n",
      "\n",
      "     ...  texture_worst  perimeter_worst  area_worst  smoothness_worst  \\\n",
      "0    ...          17.33           184.60      2019.0           0.16220   \n",
      "1    ...          23.41           158.80      1956.0           0.12380   \n",
      "2    ...          25.53           152.50      1709.0           0.14440   \n",
      "3    ...          26.50            98.87       567.7           0.20980   \n",
      "4    ...          16.67           152.20      1575.0           0.13740   \n",
      "..   ...            ...              ...         ...               ...   \n",
      "564  ...          26.40           166.10      2027.0           0.14100   \n",
      "565  ...          38.25           155.00      1731.0           0.11660   \n",
      "566  ...          34.12           126.70      1124.0           0.11390   \n",
      "567  ...          39.42           184.60      1821.0           0.16500   \n",
      "568  ...          30.37            59.16       268.6           0.08996   \n",
      "\n",
      "     compactness_worst  concavity_worst  concave points_worst  symmetry_worst  \\\n",
      "0              0.66560           0.7119                0.2654          0.4601   \n",
      "1              0.18660           0.2416                0.1860          0.2750   \n",
      "2              0.42450           0.4504                0.2430          0.3613   \n",
      "3              0.86630           0.6869                0.2575          0.6638   \n",
      "4              0.20500           0.4000                0.1625          0.2364   \n",
      "..                 ...              ...                   ...             ...   \n",
      "564            0.21130           0.4107                0.2216          0.2060   \n",
      "565            0.19220           0.3215                0.1628          0.2572   \n",
      "566            0.30940           0.3403                0.1418          0.2218   \n",
      "567            0.86810           0.9387                0.2650          0.4087   \n",
      "568            0.06444           0.0000                0.0000          0.2871   \n",
      "\n",
      "     fractal_dimension_worst  Unnamed: 32  \n",
      "0                    0.11890          NaN  \n",
      "1                    0.08902          NaN  \n",
      "2                    0.08758          NaN  \n",
      "3                    0.17300          NaN  \n",
      "4                    0.07678          NaN  \n",
      "..                       ...          ...  \n",
      "564                  0.07115          NaN  \n",
      "565                  0.06637          NaN  \n",
      "566                  0.07820          NaN  \n",
      "567                  0.12400          NaN  \n",
      "568                  0.07039          NaN  \n",
      "\n",
      "[569 rows x 33 columns]\n"
     ]
    }
   ],
   "source": [
    "print(data_frame)"
   ]
  },
  {
   "cell_type": "code",
   "execution_count": 75,
   "id": "39f4c89d-7627-4783-96e0-0559610f5ac0",
   "metadata": {},
   "outputs": [
    {
     "data": {
      "text/html": [
       "<div>\n",
       "<style scoped>\n",
       "    .dataframe tbody tr th:only-of-type {\n",
       "        vertical-align: middle;\n",
       "    }\n",
       "\n",
       "    .dataframe tbody tr th {\n",
       "        vertical-align: top;\n",
       "    }\n",
       "\n",
       "    .dataframe thead th {\n",
       "        text-align: right;\n",
       "    }\n",
       "</style>\n",
       "<table border=\"1\" class=\"dataframe\">\n",
       "  <thead>\n",
       "    <tr style=\"text-align: right;\">\n",
       "      <th></th>\n",
       "      <th>id</th>\n",
       "      <th>diagnosis</th>\n",
       "      <th>radius_mean</th>\n",
       "      <th>texture_mean</th>\n",
       "      <th>perimeter_mean</th>\n",
       "      <th>area_mean</th>\n",
       "      <th>smoothness_mean</th>\n",
       "      <th>compactness_mean</th>\n",
       "      <th>concavity_mean</th>\n",
       "      <th>concave points_mean</th>\n",
       "      <th>...</th>\n",
       "      <th>texture_worst</th>\n",
       "      <th>perimeter_worst</th>\n",
       "      <th>area_worst</th>\n",
       "      <th>smoothness_worst</th>\n",
       "      <th>compactness_worst</th>\n",
       "      <th>concavity_worst</th>\n",
       "      <th>concave points_worst</th>\n",
       "      <th>symmetry_worst</th>\n",
       "      <th>fractal_dimension_worst</th>\n",
       "      <th>Unnamed: 32</th>\n",
       "    </tr>\n",
       "  </thead>\n",
       "  <tbody>\n",
       "    <tr>\n",
       "      <th>0</th>\n",
       "      <td>842302</td>\n",
       "      <td>M</td>\n",
       "      <td>17.99</td>\n",
       "      <td>10.38</td>\n",
       "      <td>122.80</td>\n",
       "      <td>1001.0</td>\n",
       "      <td>0.11840</td>\n",
       "      <td>0.27760</td>\n",
       "      <td>0.3001</td>\n",
       "      <td>0.14710</td>\n",
       "      <td>...</td>\n",
       "      <td>17.33</td>\n",
       "      <td>184.60</td>\n",
       "      <td>2019.0</td>\n",
       "      <td>0.1622</td>\n",
       "      <td>0.6656</td>\n",
       "      <td>0.7119</td>\n",
       "      <td>0.2654</td>\n",
       "      <td>0.4601</td>\n",
       "      <td>0.11890</td>\n",
       "      <td>NaN</td>\n",
       "    </tr>\n",
       "    <tr>\n",
       "      <th>1</th>\n",
       "      <td>842517</td>\n",
       "      <td>M</td>\n",
       "      <td>20.57</td>\n",
       "      <td>17.77</td>\n",
       "      <td>132.90</td>\n",
       "      <td>1326.0</td>\n",
       "      <td>0.08474</td>\n",
       "      <td>0.07864</td>\n",
       "      <td>0.0869</td>\n",
       "      <td>0.07017</td>\n",
       "      <td>...</td>\n",
       "      <td>23.41</td>\n",
       "      <td>158.80</td>\n",
       "      <td>1956.0</td>\n",
       "      <td>0.1238</td>\n",
       "      <td>0.1866</td>\n",
       "      <td>0.2416</td>\n",
       "      <td>0.1860</td>\n",
       "      <td>0.2750</td>\n",
       "      <td>0.08902</td>\n",
       "      <td>NaN</td>\n",
       "    </tr>\n",
       "    <tr>\n",
       "      <th>2</th>\n",
       "      <td>84300903</td>\n",
       "      <td>M</td>\n",
       "      <td>19.69</td>\n",
       "      <td>21.25</td>\n",
       "      <td>130.00</td>\n",
       "      <td>1203.0</td>\n",
       "      <td>0.10960</td>\n",
       "      <td>0.15990</td>\n",
       "      <td>0.1974</td>\n",
       "      <td>0.12790</td>\n",
       "      <td>...</td>\n",
       "      <td>25.53</td>\n",
       "      <td>152.50</td>\n",
       "      <td>1709.0</td>\n",
       "      <td>0.1444</td>\n",
       "      <td>0.4245</td>\n",
       "      <td>0.4504</td>\n",
       "      <td>0.2430</td>\n",
       "      <td>0.3613</td>\n",
       "      <td>0.08758</td>\n",
       "      <td>NaN</td>\n",
       "    </tr>\n",
       "    <tr>\n",
       "      <th>3</th>\n",
       "      <td>84348301</td>\n",
       "      <td>M</td>\n",
       "      <td>11.42</td>\n",
       "      <td>20.38</td>\n",
       "      <td>77.58</td>\n",
       "      <td>386.1</td>\n",
       "      <td>0.14250</td>\n",
       "      <td>0.28390</td>\n",
       "      <td>0.2414</td>\n",
       "      <td>0.10520</td>\n",
       "      <td>...</td>\n",
       "      <td>26.50</td>\n",
       "      <td>98.87</td>\n",
       "      <td>567.7</td>\n",
       "      <td>0.2098</td>\n",
       "      <td>0.8663</td>\n",
       "      <td>0.6869</td>\n",
       "      <td>0.2575</td>\n",
       "      <td>0.6638</td>\n",
       "      <td>0.17300</td>\n",
       "      <td>NaN</td>\n",
       "    </tr>\n",
       "    <tr>\n",
       "      <th>4</th>\n",
       "      <td>84358402</td>\n",
       "      <td>M</td>\n",
       "      <td>20.29</td>\n",
       "      <td>14.34</td>\n",
       "      <td>135.10</td>\n",
       "      <td>1297.0</td>\n",
       "      <td>0.10030</td>\n",
       "      <td>0.13280</td>\n",
       "      <td>0.1980</td>\n",
       "      <td>0.10430</td>\n",
       "      <td>...</td>\n",
       "      <td>16.67</td>\n",
       "      <td>152.20</td>\n",
       "      <td>1575.0</td>\n",
       "      <td>0.1374</td>\n",
       "      <td>0.2050</td>\n",
       "      <td>0.4000</td>\n",
       "      <td>0.1625</td>\n",
       "      <td>0.2364</td>\n",
       "      <td>0.07678</td>\n",
       "      <td>NaN</td>\n",
       "    </tr>\n",
       "  </tbody>\n",
       "</table>\n",
       "<p>5 rows × 33 columns</p>\n",
       "</div>"
      ],
      "text/plain": [
       "         id diagnosis  radius_mean  texture_mean  perimeter_mean  area_mean  \\\n",
       "0    842302         M        17.99         10.38          122.80     1001.0   \n",
       "1    842517         M        20.57         17.77          132.90     1326.0   \n",
       "2  84300903         M        19.69         21.25          130.00     1203.0   \n",
       "3  84348301         M        11.42         20.38           77.58      386.1   \n",
       "4  84358402         M        20.29         14.34          135.10     1297.0   \n",
       "\n",
       "   smoothness_mean  compactness_mean  concavity_mean  concave points_mean  \\\n",
       "0          0.11840           0.27760          0.3001              0.14710   \n",
       "1          0.08474           0.07864          0.0869              0.07017   \n",
       "2          0.10960           0.15990          0.1974              0.12790   \n",
       "3          0.14250           0.28390          0.2414              0.10520   \n",
       "4          0.10030           0.13280          0.1980              0.10430   \n",
       "\n",
       "   ...  texture_worst  perimeter_worst  area_worst  smoothness_worst  \\\n",
       "0  ...          17.33           184.60      2019.0            0.1622   \n",
       "1  ...          23.41           158.80      1956.0            0.1238   \n",
       "2  ...          25.53           152.50      1709.0            0.1444   \n",
       "3  ...          26.50            98.87       567.7            0.2098   \n",
       "4  ...          16.67           152.20      1575.0            0.1374   \n",
       "\n",
       "   compactness_worst  concavity_worst  concave points_worst  symmetry_worst  \\\n",
       "0             0.6656           0.7119                0.2654          0.4601   \n",
       "1             0.1866           0.2416                0.1860          0.2750   \n",
       "2             0.4245           0.4504                0.2430          0.3613   \n",
       "3             0.8663           0.6869                0.2575          0.6638   \n",
       "4             0.2050           0.4000                0.1625          0.2364   \n",
       "\n",
       "   fractal_dimension_worst  Unnamed: 32  \n",
       "0                  0.11890          NaN  \n",
       "1                  0.08902          NaN  \n",
       "2                  0.08758          NaN  \n",
       "3                  0.17300          NaN  \n",
       "4                  0.07678          NaN  \n",
       "\n",
       "[5 rows x 33 columns]"
      ]
     },
     "execution_count": 75,
     "metadata": {},
     "output_type": "execute_result"
    }
   ],
   "source": [
    "# print the first 5 rows of the dataframe\n",
    "data_frame.head()"
   ]
  },
  {
   "cell_type": "code",
   "execution_count": 76,
   "id": "4271216a-4f39-4061-8382-336e16380f17",
   "metadata": {},
   "outputs": [],
   "source": [
    "data_frame.drop('Unnamed: 32', axis=1, inplace=True)"
   ]
  },
  {
   "cell_type": "code",
   "execution_count": 77,
   "id": "d930ff6b-5438-414f-b659-a6938ffa7ab7",
   "metadata": {},
   "outputs": [],
   "source": [
    "data_frame.drop('id', axis=1, inplace=True)"
   ]
  },
  {
   "cell_type": "code",
   "execution_count": 78,
   "id": "20afdab6-3c67-4f36-a76a-5beabc1d47c4",
   "metadata": {},
   "outputs": [],
   "source": [
    "# Required columns list\n",
    "required_columns = ['area_worst','concave points_worst','concave points_mean','radius_worst','perimeter_worst','perimeter_mean','concavity_mean','area_mean','concavity_worst','radius_mean','diagnosis']\n",
    "\n",
    "# Drop all other columns except the required ones (inplace=True)\n",
    "data_frame.drop(columns=[col for col in data_frame.columns if col not in required_columns], inplace=True)\n"
   ]
  },
  {
   "cell_type": "code",
   "execution_count": 79,
   "id": "4eba84ca-b778-419f-85e0-9bd48ed96706",
   "metadata": {},
   "outputs": [
    {
     "data": {
      "text/html": [
       "<div>\n",
       "<style scoped>\n",
       "    .dataframe tbody tr th:only-of-type {\n",
       "        vertical-align: middle;\n",
       "    }\n",
       "\n",
       "    .dataframe tbody tr th {\n",
       "        vertical-align: top;\n",
       "    }\n",
       "\n",
       "    .dataframe thead th {\n",
       "        text-align: right;\n",
       "    }\n",
       "</style>\n",
       "<table border=\"1\" class=\"dataframe\">\n",
       "  <thead>\n",
       "    <tr style=\"text-align: right;\">\n",
       "      <th></th>\n",
       "      <th>diagnosis</th>\n",
       "      <th>radius_mean</th>\n",
       "      <th>perimeter_mean</th>\n",
       "      <th>area_mean</th>\n",
       "      <th>concavity_mean</th>\n",
       "      <th>concave points_mean</th>\n",
       "      <th>radius_worst</th>\n",
       "      <th>perimeter_worst</th>\n",
       "      <th>area_worst</th>\n",
       "      <th>concavity_worst</th>\n",
       "      <th>concave points_worst</th>\n",
       "    </tr>\n",
       "  </thead>\n",
       "  <tbody>\n",
       "    <tr>\n",
       "      <th>0</th>\n",
       "      <td>M</td>\n",
       "      <td>17.99</td>\n",
       "      <td>122.80</td>\n",
       "      <td>1001.0</td>\n",
       "      <td>0.3001</td>\n",
       "      <td>0.14710</td>\n",
       "      <td>25.38</td>\n",
       "      <td>184.60</td>\n",
       "      <td>2019.0</td>\n",
       "      <td>0.7119</td>\n",
       "      <td>0.2654</td>\n",
       "    </tr>\n",
       "    <tr>\n",
       "      <th>1</th>\n",
       "      <td>M</td>\n",
       "      <td>20.57</td>\n",
       "      <td>132.90</td>\n",
       "      <td>1326.0</td>\n",
       "      <td>0.0869</td>\n",
       "      <td>0.07017</td>\n",
       "      <td>24.99</td>\n",
       "      <td>158.80</td>\n",
       "      <td>1956.0</td>\n",
       "      <td>0.2416</td>\n",
       "      <td>0.1860</td>\n",
       "    </tr>\n",
       "    <tr>\n",
       "      <th>2</th>\n",
       "      <td>M</td>\n",
       "      <td>19.69</td>\n",
       "      <td>130.00</td>\n",
       "      <td>1203.0</td>\n",
       "      <td>0.1974</td>\n",
       "      <td>0.12790</td>\n",
       "      <td>23.57</td>\n",
       "      <td>152.50</td>\n",
       "      <td>1709.0</td>\n",
       "      <td>0.4504</td>\n",
       "      <td>0.2430</td>\n",
       "    </tr>\n",
       "    <tr>\n",
       "      <th>3</th>\n",
       "      <td>M</td>\n",
       "      <td>11.42</td>\n",
       "      <td>77.58</td>\n",
       "      <td>386.1</td>\n",
       "      <td>0.2414</td>\n",
       "      <td>0.10520</td>\n",
       "      <td>14.91</td>\n",
       "      <td>98.87</td>\n",
       "      <td>567.7</td>\n",
       "      <td>0.6869</td>\n",
       "      <td>0.2575</td>\n",
       "    </tr>\n",
       "    <tr>\n",
       "      <th>4</th>\n",
       "      <td>M</td>\n",
       "      <td>20.29</td>\n",
       "      <td>135.10</td>\n",
       "      <td>1297.0</td>\n",
       "      <td>0.1980</td>\n",
       "      <td>0.10430</td>\n",
       "      <td>22.54</td>\n",
       "      <td>152.20</td>\n",
       "      <td>1575.0</td>\n",
       "      <td>0.4000</td>\n",
       "      <td>0.1625</td>\n",
       "    </tr>\n",
       "  </tbody>\n",
       "</table>\n",
       "</div>"
      ],
      "text/plain": [
       "  diagnosis  radius_mean  perimeter_mean  area_mean  concavity_mean  \\\n",
       "0         M        17.99          122.80     1001.0          0.3001   \n",
       "1         M        20.57          132.90     1326.0          0.0869   \n",
       "2         M        19.69          130.00     1203.0          0.1974   \n",
       "3         M        11.42           77.58      386.1          0.2414   \n",
       "4         M        20.29          135.10     1297.0          0.1980   \n",
       "\n",
       "   concave points_mean  radius_worst  perimeter_worst  area_worst  \\\n",
       "0              0.14710         25.38           184.60      2019.0   \n",
       "1              0.07017         24.99           158.80      1956.0   \n",
       "2              0.12790         23.57           152.50      1709.0   \n",
       "3              0.10520         14.91            98.87       567.7   \n",
       "4              0.10430         22.54           152.20      1575.0   \n",
       "\n",
       "   concavity_worst  concave points_worst  \n",
       "0           0.7119                0.2654  \n",
       "1           0.2416                0.1860  \n",
       "2           0.4504                0.2430  \n",
       "3           0.6869                0.2575  \n",
       "4           0.4000                0.1625  "
      ]
     },
     "execution_count": 79,
     "metadata": {},
     "output_type": "execute_result"
    }
   ],
   "source": [
    "data_frame.head()"
   ]
  },
  {
   "cell_type": "code",
   "execution_count": 80,
   "id": "831e3766-5be8-4374-a997-c29e150b796c",
   "metadata": {},
   "outputs": [
    {
     "data": {
      "text/html": [
       "<div>\n",
       "<style scoped>\n",
       "    .dataframe tbody tr th:only-of-type {\n",
       "        vertical-align: middle;\n",
       "    }\n",
       "\n",
       "    .dataframe tbody tr th {\n",
       "        vertical-align: top;\n",
       "    }\n",
       "\n",
       "    .dataframe thead th {\n",
       "        text-align: right;\n",
       "    }\n",
       "</style>\n",
       "<table border=\"1\" class=\"dataframe\">\n",
       "  <thead>\n",
       "    <tr style=\"text-align: right;\">\n",
       "      <th></th>\n",
       "      <th>diagnosis</th>\n",
       "      <th>radius_mean</th>\n",
       "      <th>perimeter_mean</th>\n",
       "      <th>area_mean</th>\n",
       "      <th>concavity_mean</th>\n",
       "      <th>concave points_mean</th>\n",
       "      <th>radius_worst</th>\n",
       "      <th>perimeter_worst</th>\n",
       "      <th>area_worst</th>\n",
       "      <th>concavity_worst</th>\n",
       "      <th>concave points_worst</th>\n",
       "    </tr>\n",
       "  </thead>\n",
       "  <tbody>\n",
       "    <tr>\n",
       "      <th>564</th>\n",
       "      <td>M</td>\n",
       "      <td>21.56</td>\n",
       "      <td>142.00</td>\n",
       "      <td>1479.0</td>\n",
       "      <td>0.24390</td>\n",
       "      <td>0.13890</td>\n",
       "      <td>25.450</td>\n",
       "      <td>166.10</td>\n",
       "      <td>2027.0</td>\n",
       "      <td>0.4107</td>\n",
       "      <td>0.2216</td>\n",
       "    </tr>\n",
       "    <tr>\n",
       "      <th>565</th>\n",
       "      <td>M</td>\n",
       "      <td>20.13</td>\n",
       "      <td>131.20</td>\n",
       "      <td>1261.0</td>\n",
       "      <td>0.14400</td>\n",
       "      <td>0.09791</td>\n",
       "      <td>23.690</td>\n",
       "      <td>155.00</td>\n",
       "      <td>1731.0</td>\n",
       "      <td>0.3215</td>\n",
       "      <td>0.1628</td>\n",
       "    </tr>\n",
       "    <tr>\n",
       "      <th>566</th>\n",
       "      <td>M</td>\n",
       "      <td>16.60</td>\n",
       "      <td>108.30</td>\n",
       "      <td>858.1</td>\n",
       "      <td>0.09251</td>\n",
       "      <td>0.05302</td>\n",
       "      <td>18.980</td>\n",
       "      <td>126.70</td>\n",
       "      <td>1124.0</td>\n",
       "      <td>0.3403</td>\n",
       "      <td>0.1418</td>\n",
       "    </tr>\n",
       "    <tr>\n",
       "      <th>567</th>\n",
       "      <td>M</td>\n",
       "      <td>20.60</td>\n",
       "      <td>140.10</td>\n",
       "      <td>1265.0</td>\n",
       "      <td>0.35140</td>\n",
       "      <td>0.15200</td>\n",
       "      <td>25.740</td>\n",
       "      <td>184.60</td>\n",
       "      <td>1821.0</td>\n",
       "      <td>0.9387</td>\n",
       "      <td>0.2650</td>\n",
       "    </tr>\n",
       "    <tr>\n",
       "      <th>568</th>\n",
       "      <td>B</td>\n",
       "      <td>7.76</td>\n",
       "      <td>47.92</td>\n",
       "      <td>181.0</td>\n",
       "      <td>0.00000</td>\n",
       "      <td>0.00000</td>\n",
       "      <td>9.456</td>\n",
       "      <td>59.16</td>\n",
       "      <td>268.6</td>\n",
       "      <td>0.0000</td>\n",
       "      <td>0.0000</td>\n",
       "    </tr>\n",
       "  </tbody>\n",
       "</table>\n",
       "</div>"
      ],
      "text/plain": [
       "    diagnosis  radius_mean  perimeter_mean  area_mean  concavity_mean  \\\n",
       "564         M        21.56          142.00     1479.0         0.24390   \n",
       "565         M        20.13          131.20     1261.0         0.14400   \n",
       "566         M        16.60          108.30      858.1         0.09251   \n",
       "567         M        20.60          140.10     1265.0         0.35140   \n",
       "568         B         7.76           47.92      181.0         0.00000   \n",
       "\n",
       "     concave points_mean  radius_worst  perimeter_worst  area_worst  \\\n",
       "564              0.13890        25.450           166.10      2027.0   \n",
       "565              0.09791        23.690           155.00      1731.0   \n",
       "566              0.05302        18.980           126.70      1124.0   \n",
       "567              0.15200        25.740           184.60      1821.0   \n",
       "568              0.00000         9.456            59.16       268.6   \n",
       "\n",
       "     concavity_worst  concave points_worst  \n",
       "564           0.4107                0.2216  \n",
       "565           0.3215                0.1628  \n",
       "566           0.3403                0.1418  \n",
       "567           0.9387                0.2650  \n",
       "568           0.0000                0.0000  "
      ]
     },
     "execution_count": 80,
     "metadata": {},
     "output_type": "execute_result"
    }
   ],
   "source": [
    "# print last 5 rows of the dataframe\n",
    "data_frame.tail()"
   ]
  },
  {
   "cell_type": "code",
   "execution_count": 81,
   "id": "c2e52a5c-efa6-4e99-845f-864270117e89",
   "metadata": {},
   "outputs": [
    {
     "data": {
      "text/plain": [
       "(569, 11)"
      ]
     },
     "execution_count": 81,
     "metadata": {},
     "output_type": "execute_result"
    }
   ],
   "source": [
    "# number of rows and columns in the dataset\n",
    "data_frame.shape"
   ]
  },
  {
   "cell_type": "code",
   "execution_count": 82,
   "id": "a47400e6-3118-4847-acf6-0d75a3f27e95",
   "metadata": {},
   "outputs": [
    {
     "name": "stdout",
     "output_type": "stream",
     "text": [
      "<class 'pandas.core.frame.DataFrame'>\n",
      "RangeIndex: 569 entries, 0 to 568\n",
      "Data columns (total 11 columns):\n",
      " #   Column                Non-Null Count  Dtype  \n",
      "---  ------                --------------  -----  \n",
      " 0   diagnosis             569 non-null    object \n",
      " 1   radius_mean           569 non-null    float64\n",
      " 2   perimeter_mean        569 non-null    float64\n",
      " 3   area_mean             569 non-null    float64\n",
      " 4   concavity_mean        569 non-null    float64\n",
      " 5   concave points_mean   569 non-null    float64\n",
      " 6   radius_worst          569 non-null    float64\n",
      " 7   perimeter_worst       569 non-null    float64\n",
      " 8   area_worst            569 non-null    float64\n",
      " 9   concavity_worst       569 non-null    float64\n",
      " 10  concave points_worst  569 non-null    float64\n",
      "dtypes: float64(10), object(1)\n",
      "memory usage: 49.0+ KB\n"
     ]
    }
   ],
   "source": [
    "# getting some information about the data\n",
    "data_frame.info()"
   ]
  },
  {
   "cell_type": "code",
   "execution_count": 83,
   "id": "f6ea9e05-4a96-4b6d-8ef4-997762f58e86",
   "metadata": {},
   "outputs": [
    {
     "data": {
      "text/plain": [
       "diagnosis               0\n",
       "radius_mean             0\n",
       "perimeter_mean          0\n",
       "area_mean               0\n",
       "concavity_mean          0\n",
       "concave points_mean     0\n",
       "radius_worst            0\n",
       "perimeter_worst         0\n",
       "area_worst              0\n",
       "concavity_worst         0\n",
       "concave points_worst    0\n",
       "dtype: int64"
      ]
     },
     "execution_count": 83,
     "metadata": {},
     "output_type": "execute_result"
    }
   ],
   "source": [
    "# checking for missing values\n",
    "data_frame.isnull().sum()"
   ]
  },
  {
   "cell_type": "code",
   "execution_count": 84,
   "id": "839fff17-0b6c-46f0-a24e-600d550fed5b",
   "metadata": {},
   "outputs": [
    {
     "data": {
      "text/html": [
       "<div>\n",
       "<style scoped>\n",
       "    .dataframe tbody tr th:only-of-type {\n",
       "        vertical-align: middle;\n",
       "    }\n",
       "\n",
       "    .dataframe tbody tr th {\n",
       "        vertical-align: top;\n",
       "    }\n",
       "\n",
       "    .dataframe thead th {\n",
       "        text-align: right;\n",
       "    }\n",
       "</style>\n",
       "<table border=\"1\" class=\"dataframe\">\n",
       "  <thead>\n",
       "    <tr style=\"text-align: right;\">\n",
       "      <th></th>\n",
       "      <th>radius_mean</th>\n",
       "      <th>perimeter_mean</th>\n",
       "      <th>area_mean</th>\n",
       "      <th>concavity_mean</th>\n",
       "      <th>concave points_mean</th>\n",
       "      <th>radius_worst</th>\n",
       "      <th>perimeter_worst</th>\n",
       "      <th>area_worst</th>\n",
       "      <th>concavity_worst</th>\n",
       "      <th>concave points_worst</th>\n",
       "    </tr>\n",
       "  </thead>\n",
       "  <tbody>\n",
       "    <tr>\n",
       "      <th>count</th>\n",
       "      <td>569.000000</td>\n",
       "      <td>569.000000</td>\n",
       "      <td>569.000000</td>\n",
       "      <td>569.000000</td>\n",
       "      <td>569.000000</td>\n",
       "      <td>569.000000</td>\n",
       "      <td>569.000000</td>\n",
       "      <td>569.000000</td>\n",
       "      <td>569.000000</td>\n",
       "      <td>569.000000</td>\n",
       "    </tr>\n",
       "    <tr>\n",
       "      <th>mean</th>\n",
       "      <td>14.127292</td>\n",
       "      <td>91.969033</td>\n",
       "      <td>654.889104</td>\n",
       "      <td>0.088799</td>\n",
       "      <td>0.048919</td>\n",
       "      <td>16.269190</td>\n",
       "      <td>107.261213</td>\n",
       "      <td>880.583128</td>\n",
       "      <td>0.272188</td>\n",
       "      <td>0.114606</td>\n",
       "    </tr>\n",
       "    <tr>\n",
       "      <th>std</th>\n",
       "      <td>3.524049</td>\n",
       "      <td>24.298981</td>\n",
       "      <td>351.914129</td>\n",
       "      <td>0.079720</td>\n",
       "      <td>0.038803</td>\n",
       "      <td>4.833242</td>\n",
       "      <td>33.602542</td>\n",
       "      <td>569.356993</td>\n",
       "      <td>0.208624</td>\n",
       "      <td>0.065732</td>\n",
       "    </tr>\n",
       "    <tr>\n",
       "      <th>min</th>\n",
       "      <td>6.981000</td>\n",
       "      <td>43.790000</td>\n",
       "      <td>143.500000</td>\n",
       "      <td>0.000000</td>\n",
       "      <td>0.000000</td>\n",
       "      <td>7.930000</td>\n",
       "      <td>50.410000</td>\n",
       "      <td>185.200000</td>\n",
       "      <td>0.000000</td>\n",
       "      <td>0.000000</td>\n",
       "    </tr>\n",
       "    <tr>\n",
       "      <th>25%</th>\n",
       "      <td>11.700000</td>\n",
       "      <td>75.170000</td>\n",
       "      <td>420.300000</td>\n",
       "      <td>0.029560</td>\n",
       "      <td>0.020310</td>\n",
       "      <td>13.010000</td>\n",
       "      <td>84.110000</td>\n",
       "      <td>515.300000</td>\n",
       "      <td>0.114500</td>\n",
       "      <td>0.064930</td>\n",
       "    </tr>\n",
       "    <tr>\n",
       "      <th>50%</th>\n",
       "      <td>13.370000</td>\n",
       "      <td>86.240000</td>\n",
       "      <td>551.100000</td>\n",
       "      <td>0.061540</td>\n",
       "      <td>0.033500</td>\n",
       "      <td>14.970000</td>\n",
       "      <td>97.660000</td>\n",
       "      <td>686.500000</td>\n",
       "      <td>0.226700</td>\n",
       "      <td>0.099930</td>\n",
       "    </tr>\n",
       "    <tr>\n",
       "      <th>75%</th>\n",
       "      <td>15.780000</td>\n",
       "      <td>104.100000</td>\n",
       "      <td>782.700000</td>\n",
       "      <td>0.130700</td>\n",
       "      <td>0.074000</td>\n",
       "      <td>18.790000</td>\n",
       "      <td>125.400000</td>\n",
       "      <td>1084.000000</td>\n",
       "      <td>0.382900</td>\n",
       "      <td>0.161400</td>\n",
       "    </tr>\n",
       "    <tr>\n",
       "      <th>max</th>\n",
       "      <td>28.110000</td>\n",
       "      <td>188.500000</td>\n",
       "      <td>2501.000000</td>\n",
       "      <td>0.426800</td>\n",
       "      <td>0.201200</td>\n",
       "      <td>36.040000</td>\n",
       "      <td>251.200000</td>\n",
       "      <td>4254.000000</td>\n",
       "      <td>1.252000</td>\n",
       "      <td>0.291000</td>\n",
       "    </tr>\n",
       "  </tbody>\n",
       "</table>\n",
       "</div>"
      ],
      "text/plain": [
       "       radius_mean  perimeter_mean    area_mean  concavity_mean  \\\n",
       "count   569.000000      569.000000   569.000000      569.000000   \n",
       "mean     14.127292       91.969033   654.889104        0.088799   \n",
       "std       3.524049       24.298981   351.914129        0.079720   \n",
       "min       6.981000       43.790000   143.500000        0.000000   \n",
       "25%      11.700000       75.170000   420.300000        0.029560   \n",
       "50%      13.370000       86.240000   551.100000        0.061540   \n",
       "75%      15.780000      104.100000   782.700000        0.130700   \n",
       "max      28.110000      188.500000  2501.000000        0.426800   \n",
       "\n",
       "       concave points_mean  radius_worst  perimeter_worst   area_worst  \\\n",
       "count           569.000000    569.000000       569.000000   569.000000   \n",
       "mean              0.048919     16.269190       107.261213   880.583128   \n",
       "std               0.038803      4.833242        33.602542   569.356993   \n",
       "min               0.000000      7.930000        50.410000   185.200000   \n",
       "25%               0.020310     13.010000        84.110000   515.300000   \n",
       "50%               0.033500     14.970000        97.660000   686.500000   \n",
       "75%               0.074000     18.790000       125.400000  1084.000000   \n",
       "max               0.201200     36.040000       251.200000  4254.000000   \n",
       "\n",
       "       concavity_worst  concave points_worst  \n",
       "count       569.000000            569.000000  \n",
       "mean          0.272188              0.114606  \n",
       "std           0.208624              0.065732  \n",
       "min           0.000000              0.000000  \n",
       "25%           0.114500              0.064930  \n",
       "50%           0.226700              0.099930  \n",
       "75%           0.382900              0.161400  \n",
       "max           1.252000              0.291000  "
      ]
     },
     "execution_count": 84,
     "metadata": {},
     "output_type": "execute_result"
    }
   ],
   "source": [
    "# statistical measures about the data\n",
    "data_frame.describe()"
   ]
  },
  {
   "cell_type": "code",
   "execution_count": 85,
   "id": "bc706897-6737-4800-8b55-132e526cb5f3",
   "metadata": {},
   "outputs": [
    {
     "data": {
      "text/plain": [
       "diagnosis\n",
       "B    357\n",
       "M    212\n",
       "Name: count, dtype: int64"
      ]
     },
     "execution_count": 85,
     "metadata": {},
     "output_type": "execute_result"
    }
   ],
   "source": [
    "# checking the distribution of Target Varibale\n",
    "data_frame['diagnosis'].value_counts()"
   ]
  },
  {
   "cell_type": "code",
   "execution_count": 86,
   "id": "99db4f47-6658-46f4-ae79-627a9fd27406",
   "metadata": {},
   "outputs": [],
   "source": [
    "data_frame.loc[data_frame['diagnosis'] == 'B', 'diagnosis'] = 1\n",
    "data_frame.loc[data_frame['diagnosis'] == 'M', 'diagnosis'] = 0"
   ]
  },
  {
   "cell_type": "code",
   "execution_count": 87,
   "id": "60cd4ce0-ee4a-4b53-8c62-42e1678063e6",
   "metadata": {},
   "outputs": [
    {
     "data": {
      "text/html": [
       "<div>\n",
       "<style scoped>\n",
       "    .dataframe tbody tr th:only-of-type {\n",
       "        vertical-align: middle;\n",
       "    }\n",
       "\n",
       "    .dataframe tbody tr th {\n",
       "        vertical-align: top;\n",
       "    }\n",
       "\n",
       "    .dataframe thead th {\n",
       "        text-align: right;\n",
       "    }\n",
       "</style>\n",
       "<table border=\"1\" class=\"dataframe\">\n",
       "  <thead>\n",
       "    <tr style=\"text-align: right;\">\n",
       "      <th></th>\n",
       "      <th>diagnosis</th>\n",
       "      <th>radius_mean</th>\n",
       "      <th>perimeter_mean</th>\n",
       "      <th>area_mean</th>\n",
       "      <th>concavity_mean</th>\n",
       "      <th>concave points_mean</th>\n",
       "      <th>radius_worst</th>\n",
       "      <th>perimeter_worst</th>\n",
       "      <th>area_worst</th>\n",
       "      <th>concavity_worst</th>\n",
       "      <th>concave points_worst</th>\n",
       "    </tr>\n",
       "  </thead>\n",
       "  <tbody>\n",
       "    <tr>\n",
       "      <th>0</th>\n",
       "      <td>0</td>\n",
       "      <td>17.99</td>\n",
       "      <td>122.80</td>\n",
       "      <td>1001.0</td>\n",
       "      <td>0.3001</td>\n",
       "      <td>0.14710</td>\n",
       "      <td>25.38</td>\n",
       "      <td>184.60</td>\n",
       "      <td>2019.0</td>\n",
       "      <td>0.7119</td>\n",
       "      <td>0.2654</td>\n",
       "    </tr>\n",
       "    <tr>\n",
       "      <th>1</th>\n",
       "      <td>0</td>\n",
       "      <td>20.57</td>\n",
       "      <td>132.90</td>\n",
       "      <td>1326.0</td>\n",
       "      <td>0.0869</td>\n",
       "      <td>0.07017</td>\n",
       "      <td>24.99</td>\n",
       "      <td>158.80</td>\n",
       "      <td>1956.0</td>\n",
       "      <td>0.2416</td>\n",
       "      <td>0.1860</td>\n",
       "    </tr>\n",
       "    <tr>\n",
       "      <th>2</th>\n",
       "      <td>0</td>\n",
       "      <td>19.69</td>\n",
       "      <td>130.00</td>\n",
       "      <td>1203.0</td>\n",
       "      <td>0.1974</td>\n",
       "      <td>0.12790</td>\n",
       "      <td>23.57</td>\n",
       "      <td>152.50</td>\n",
       "      <td>1709.0</td>\n",
       "      <td>0.4504</td>\n",
       "      <td>0.2430</td>\n",
       "    </tr>\n",
       "    <tr>\n",
       "      <th>3</th>\n",
       "      <td>0</td>\n",
       "      <td>11.42</td>\n",
       "      <td>77.58</td>\n",
       "      <td>386.1</td>\n",
       "      <td>0.2414</td>\n",
       "      <td>0.10520</td>\n",
       "      <td>14.91</td>\n",
       "      <td>98.87</td>\n",
       "      <td>567.7</td>\n",
       "      <td>0.6869</td>\n",
       "      <td>0.2575</td>\n",
       "    </tr>\n",
       "    <tr>\n",
       "      <th>4</th>\n",
       "      <td>0</td>\n",
       "      <td>20.29</td>\n",
       "      <td>135.10</td>\n",
       "      <td>1297.0</td>\n",
       "      <td>0.1980</td>\n",
       "      <td>0.10430</td>\n",
       "      <td>22.54</td>\n",
       "      <td>152.20</td>\n",
       "      <td>1575.0</td>\n",
       "      <td>0.4000</td>\n",
       "      <td>0.1625</td>\n",
       "    </tr>\n",
       "  </tbody>\n",
       "</table>\n",
       "</div>"
      ],
      "text/plain": [
       "  diagnosis  radius_mean  perimeter_mean  area_mean  concavity_mean  \\\n",
       "0         0        17.99          122.80     1001.0          0.3001   \n",
       "1         0        20.57          132.90     1326.0          0.0869   \n",
       "2         0        19.69          130.00     1203.0          0.1974   \n",
       "3         0        11.42           77.58      386.1          0.2414   \n",
       "4         0        20.29          135.10     1297.0          0.1980   \n",
       "\n",
       "   concave points_mean  radius_worst  perimeter_worst  area_worst  \\\n",
       "0              0.14710         25.38           184.60      2019.0   \n",
       "1              0.07017         24.99           158.80      1956.0   \n",
       "2              0.12790         23.57           152.50      1709.0   \n",
       "3              0.10520         14.91            98.87       567.7   \n",
       "4              0.10430         22.54           152.20      1575.0   \n",
       "\n",
       "   concavity_worst  concave points_worst  \n",
       "0           0.7119                0.2654  \n",
       "1           0.2416                0.1860  \n",
       "2           0.4504                0.2430  \n",
       "3           0.6869                0.2575  \n",
       "4           0.4000                0.1625  "
      ]
     },
     "execution_count": 87,
     "metadata": {},
     "output_type": "execute_result"
    }
   ],
   "source": [
    "data_frame.head()"
   ]
  },
  {
   "cell_type": "code",
   "execution_count": 88,
   "id": "22ecdfbe-e517-4a3f-ab58-c198b926695d",
   "metadata": {},
   "outputs": [
    {
     "data": {
      "text/plain": [
       "diagnosis\n",
       "1    357\n",
       "0    212\n",
       "Name: count, dtype: int64"
      ]
     },
     "execution_count": 88,
     "metadata": {},
     "output_type": "execute_result"
    }
   ],
   "source": [
    "# checking the distribution of Target Varibale\n",
    "data_frame['diagnosis'].value_counts()"
   ]
  },
  {
   "cell_type": "code",
   "execution_count": 89,
   "id": "df187e61-53af-4846-815c-8743c6f7b73b",
   "metadata": {},
   "outputs": [],
   "source": [
    "# 1-->Bengin\n",
    "# 0-->Malignant"
   ]
  },
  {
   "cell_type": "code",
   "execution_count": 90,
   "id": "5598c204-5602-41bf-ad9f-70ca7c56da0c",
   "metadata": {},
   "outputs": [
    {
     "data": {
      "text/html": [
       "<div>\n",
       "<style scoped>\n",
       "    .dataframe tbody tr th:only-of-type {\n",
       "        vertical-align: middle;\n",
       "    }\n",
       "\n",
       "    .dataframe tbody tr th {\n",
       "        vertical-align: top;\n",
       "    }\n",
       "\n",
       "    .dataframe thead th {\n",
       "        text-align: right;\n",
       "    }\n",
       "</style>\n",
       "<table border=\"1\" class=\"dataframe\">\n",
       "  <thead>\n",
       "    <tr style=\"text-align: right;\">\n",
       "      <th></th>\n",
       "      <th>radius_mean</th>\n",
       "      <th>perimeter_mean</th>\n",
       "      <th>area_mean</th>\n",
       "      <th>concavity_mean</th>\n",
       "      <th>concave points_mean</th>\n",
       "      <th>radius_worst</th>\n",
       "      <th>perimeter_worst</th>\n",
       "      <th>area_worst</th>\n",
       "      <th>concavity_worst</th>\n",
       "      <th>concave points_worst</th>\n",
       "    </tr>\n",
       "    <tr>\n",
       "      <th>diagnosis</th>\n",
       "      <th></th>\n",
       "      <th></th>\n",
       "      <th></th>\n",
       "      <th></th>\n",
       "      <th></th>\n",
       "      <th></th>\n",
       "      <th></th>\n",
       "      <th></th>\n",
       "      <th></th>\n",
       "      <th></th>\n",
       "    </tr>\n",
       "  </thead>\n",
       "  <tbody>\n",
       "    <tr>\n",
       "      <th>0</th>\n",
       "      <td>17.462830</td>\n",
       "      <td>115.365377</td>\n",
       "      <td>978.376415</td>\n",
       "      <td>0.160775</td>\n",
       "      <td>0.087990</td>\n",
       "      <td>21.134811</td>\n",
       "      <td>141.370330</td>\n",
       "      <td>1422.286321</td>\n",
       "      <td>0.450606</td>\n",
       "      <td>0.182237</td>\n",
       "    </tr>\n",
       "    <tr>\n",
       "      <th>1</th>\n",
       "      <td>12.146524</td>\n",
       "      <td>78.075406</td>\n",
       "      <td>462.790196</td>\n",
       "      <td>0.046058</td>\n",
       "      <td>0.025717</td>\n",
       "      <td>13.379801</td>\n",
       "      <td>87.005938</td>\n",
       "      <td>558.899440</td>\n",
       "      <td>0.166238</td>\n",
       "      <td>0.074444</td>\n",
       "    </tr>\n",
       "  </tbody>\n",
       "</table>\n",
       "</div>"
      ],
      "text/plain": [
       "           radius_mean  perimeter_mean   area_mean  concavity_mean  \\\n",
       "diagnosis                                                            \n",
       "0            17.462830      115.365377  978.376415        0.160775   \n",
       "1            12.146524       78.075406  462.790196        0.046058   \n",
       "\n",
       "           concave points_mean  radius_worst  perimeter_worst   area_worst  \\\n",
       "diagnosis                                                                    \n",
       "0                     0.087990     21.134811       141.370330  1422.286321   \n",
       "1                     0.025717     13.379801        87.005938   558.899440   \n",
       "\n",
       "           concavity_worst  concave points_worst  \n",
       "diagnosis                                         \n",
       "0                 0.450606              0.182237  \n",
       "1                 0.166238              0.074444  "
      ]
     },
     "execution_count": 90,
     "metadata": {},
     "output_type": "execute_result"
    }
   ],
   "source": [
    "data_frame.groupby('diagnosis').mean()"
   ]
  },
  {
   "cell_type": "code",
   "execution_count": 91,
   "id": "44274246-3d15-4e0a-b071-9443b2a980c7",
   "metadata": {},
   "outputs": [],
   "source": [
    "#Separating the features and target\n",
    "X = data_frame.drop(columns='diagnosis', axis=1)\n",
    "Y = data_frame['diagnosis']"
   ]
  },
  {
   "cell_type": "code",
   "execution_count": 92,
   "id": "237d55e2-3145-45f4-85b0-0138fcdd663c",
   "metadata": {},
   "outputs": [
    {
     "name": "stdout",
     "output_type": "stream",
     "text": [
      "     radius_mean  perimeter_mean  area_mean  concavity_mean  \\\n",
      "0          17.99          122.80     1001.0         0.30010   \n",
      "1          20.57          132.90     1326.0         0.08690   \n",
      "2          19.69          130.00     1203.0         0.19740   \n",
      "3          11.42           77.58      386.1         0.24140   \n",
      "4          20.29          135.10     1297.0         0.19800   \n",
      "..           ...             ...        ...             ...   \n",
      "564        21.56          142.00     1479.0         0.24390   \n",
      "565        20.13          131.20     1261.0         0.14400   \n",
      "566        16.60          108.30      858.1         0.09251   \n",
      "567        20.60          140.10     1265.0         0.35140   \n",
      "568         7.76           47.92      181.0         0.00000   \n",
      "\n",
      "     concave points_mean  radius_worst  perimeter_worst  area_worst  \\\n",
      "0                0.14710        25.380           184.60      2019.0   \n",
      "1                0.07017        24.990           158.80      1956.0   \n",
      "2                0.12790        23.570           152.50      1709.0   \n",
      "3                0.10520        14.910            98.87       567.7   \n",
      "4                0.10430        22.540           152.20      1575.0   \n",
      "..                   ...           ...              ...         ...   \n",
      "564              0.13890        25.450           166.10      2027.0   \n",
      "565              0.09791        23.690           155.00      1731.0   \n",
      "566              0.05302        18.980           126.70      1124.0   \n",
      "567              0.15200        25.740           184.60      1821.0   \n",
      "568              0.00000         9.456            59.16       268.6   \n",
      "\n",
      "     concavity_worst  concave points_worst  \n",
      "0             0.7119                0.2654  \n",
      "1             0.2416                0.1860  \n",
      "2             0.4504                0.2430  \n",
      "3             0.6869                0.2575  \n",
      "4             0.4000                0.1625  \n",
      "..               ...                   ...  \n",
      "564           0.4107                0.2216  \n",
      "565           0.3215                0.1628  \n",
      "566           0.3403                0.1418  \n",
      "567           0.9387                0.2650  \n",
      "568           0.0000                0.0000  \n",
      "\n",
      "[569 rows x 10 columns]\n"
     ]
    }
   ],
   "source": [
    "print(X)"
   ]
  },
  {
   "cell_type": "code",
   "execution_count": 93,
   "id": "5e6057fd-4c64-450d-be45-bc663fc76d32",
   "metadata": {},
   "outputs": [
    {
     "name": "stdout",
     "output_type": "stream",
     "text": [
      "0      0\n",
      "1      0\n",
      "2      0\n",
      "3      0\n",
      "4      0\n",
      "      ..\n",
      "564    0\n",
      "565    0\n",
      "566    0\n",
      "567    0\n",
      "568    1\n",
      "Name: diagnosis, Length: 569, dtype: object\n"
     ]
    }
   ],
   "source": [
    "print(Y)"
   ]
  },
  {
   "cell_type": "code",
   "execution_count": 94,
   "id": "f5b43c1a-e97c-4563-bb70-cd427da03f3a",
   "metadata": {},
   "outputs": [],
   "source": [
    "# Splitting the data into training data & Testing data\n",
    "X_train, X_test, Y_train, Y_test = train_test_split(X, Y, test_size=0.2, random_state=2)"
   ]
  },
  {
   "cell_type": "code",
   "execution_count": 95,
   "id": "4b2c61d9-51b3-40e6-aad0-c828da0030bd",
   "metadata": {},
   "outputs": [
    {
     "name": "stdout",
     "output_type": "stream",
     "text": [
      "(569, 10) (455, 10) (114, 10)\n"
     ]
    }
   ],
   "source": [
    "print(X.shape, X_train.shape, X_test.shape)"
   ]
  },
  {
   "cell_type": "code",
   "execution_count": 96,
   "id": "248796d5-199e-4af3-ae3b-3bf9baed259c",
   "metadata": {},
   "outputs": [],
   "source": [
    "# Standardize the data\n",
    "from sklearn.preprocessing import StandardScaler"
   ]
  },
  {
   "cell_type": "code",
   "execution_count": 97,
   "id": "a2bdac56-ab6e-460a-8e10-b5e3ad8ddfda",
   "metadata": {},
   "outputs": [],
   "source": [
    "scaler = StandardScaler()\n",
    "\n",
    "X_train_std = scaler.fit_transform(X_train)\n",
    "\n",
    "X_test_std = scaler.transform(X_test)"
   ]
  },
  {
   "cell_type": "code",
   "execution_count": 98,
   "id": "7f18107a-7c8b-4e7d-b973-333fb32593af",
   "metadata": {},
   "outputs": [
    {
     "name": "stdout",
     "output_type": "stream",
     "text": [
      "float64\n",
      "object\n"
     ]
    }
   ],
   "source": [
    "print(X_train_std.dtype)\n",
    "print(Y_train.dtype)"
   ]
  },
  {
   "cell_type": "code",
   "execution_count": 99,
   "id": "d5ccd902-e6ee-4de2-a0f6-723ea9952c61",
   "metadata": {},
   "outputs": [],
   "source": [
    "from sklearn.preprocessing import LabelEncoder\n",
    "\n",
    "le = LabelEncoder()\n",
    "Y_train_encoded = le.fit_transform(Y_train)"
   ]
  },
  {
   "cell_type": "code",
   "execution_count": 100,
   "id": "fdafdf79-f794-4a42-8f88-86fdd7387077",
   "metadata": {},
   "outputs": [],
   "source": [
    "from sklearn.preprocessing import LabelEncoder\n",
    "le = LabelEncoder()\n",
    "Y_train_encoded = le.fit_transform(Y_train)\n"
   ]
  },
  {
   "cell_type": "code",
   "execution_count": 101,
   "id": "2b14c7dd-3126-47c5-bece-5e09e00f7ebb",
   "metadata": {},
   "outputs": [],
   "source": [
    "Y_test_encoded = le.transform(Y_test)"
   ]
  },
  {
   "cell_type": "code",
   "execution_count": 102,
   "id": "4f1c4fcc-f0b5-4a8d-8d5c-425d45da0b74",
   "metadata": {},
   "outputs": [
    {
     "data": {
      "text/plain": [
       "(array([0, 1], dtype=object), array([167, 288], dtype=int64))"
      ]
     },
     "execution_count": 102,
     "metadata": {},
     "output_type": "execute_result"
    }
   ],
   "source": [
    "np.unique(Y_train, return_counts=True)"
   ]
  },
  {
   "cell_type": "code",
   "execution_count": 103,
   "id": "23e3945c-2849-468d-b5c4-e43e5ef7a36b",
   "metadata": {},
   "outputs": [],
   "source": [
    "# Building the Neural Network"
   ]
  },
  {
   "cell_type": "code",
   "execution_count": 104,
   "id": "f23c2780-0690-4dc3-8bcf-42442901b38a",
   "metadata": {},
   "outputs": [],
   "source": [
    "# importing tensorflow and Keras\n",
    "import tensorflow as tf \n",
    "tf.random.set_seed(3)\n",
    "from tensorflow import keras"
   ]
  },
  {
   "cell_type": "code",
   "execution_count": 105,
   "id": "0411090c-1b00-4973-a541-a7ccb86d49ad",
   "metadata": {},
   "outputs": [
    {
     "name": "stderr",
     "output_type": "stream",
     "text": [
      "C:\\Users\\nitis\\AppData\\Roaming\\Python\\Python312\\site-packages\\keras\\src\\layers\\reshaping\\flatten.py:37: UserWarning: Do not pass an `input_shape`/`input_dim` argument to a layer. When using Sequential models, prefer using an `Input(shape)` object as the first layer in the model instead.\n",
      "  super().__init__(**kwargs)\n"
     ]
    }
   ],
   "source": [
    "# setting up the layers of Neural Network\n",
    "\n",
    "model = keras.Sequential([\n",
    "                          keras.layers.Flatten(input_shape=(10,)),\n",
    "                          keras.layers.Dense(20, activation='relu'),\n",
    "                          keras.layers.Dense(2, activation='sigmoid')\n",
    "])"
   ]
  },
  {
   "cell_type": "code",
   "execution_count": 106,
   "id": "92285c56-606a-4cd8-a85b-3b7d09930aef",
   "metadata": {},
   "outputs": [],
   "source": [
    "# compiling the Neural Network\n",
    "\n",
    "model.compile(optimizer='adam',\n",
    "              loss='sparse_categorical_crossentropy',\n",
    "              metrics=['accuracy'])"
   ]
  },
  {
   "cell_type": "code",
   "execution_count": 107,
   "id": "d56ed821-0ded-47e5-ac66-613233b77d3f",
   "metadata": {},
   "outputs": [
    {
     "name": "stdout",
     "output_type": "stream",
     "text": [
      "Epoch 1/10\n",
      "\u001b[1m13/13\u001b[0m \u001b[32m━━━━━━━━━━━━━━━━━━━━\u001b[0m\u001b[37m\u001b[0m \u001b[1m2s\u001b[0m 42ms/step - accuracy: 0.6450 - loss: 0.9099 - val_accuracy: 0.6522 - val_loss: 0.6914\n",
      "Epoch 2/10\n",
      "\u001b[1m13/13\u001b[0m \u001b[32m━━━━━━━━━━━━━━━━━━━━\u001b[0m\u001b[37m\u001b[0m \u001b[1m0s\u001b[0m 11ms/step - accuracy: 0.6450 - loss: 0.7205 - val_accuracy: 0.6522 - val_loss: 0.5514\n",
      "Epoch 3/10\n",
      "\u001b[1m13/13\u001b[0m \u001b[32m━━━━━━━━━━━━━━━━━━━━\u001b[0m\u001b[37m\u001b[0m \u001b[1m0s\u001b[0m 10ms/step - accuracy: 0.6502 - loss: 0.5702 - val_accuracy: 0.6739 - val_loss: 0.4414\n",
      "Epoch 4/10\n",
      "\u001b[1m13/13\u001b[0m \u001b[32m━━━━━━━━━━━━━━━━━━━━\u001b[0m\u001b[37m\u001b[0m \u001b[1m0s\u001b[0m 11ms/step - accuracy: 0.6623 - loss: 0.4519 - val_accuracy: 0.7174 - val_loss: 0.3549\n",
      "Epoch 5/10\n",
      "\u001b[1m13/13\u001b[0m \u001b[32m━━━━━━━━━━━━━━━━━━━━\u001b[0m\u001b[37m\u001b[0m \u001b[1m0s\u001b[0m 16ms/step - accuracy: 0.7675 - loss: 0.3601 - val_accuracy: 0.8696 - val_loss: 0.2884\n",
      "Epoch 6/10\n",
      "\u001b[1m13/13\u001b[0m \u001b[32m━━━━━━━━━━━━━━━━━━━━\u001b[0m\u001b[37m\u001b[0m \u001b[1m0s\u001b[0m 10ms/step - accuracy: 0.8907 - loss: 0.2926 - val_accuracy: 0.9348 - val_loss: 0.2404\n",
      "Epoch 7/10\n",
      "\u001b[1m13/13\u001b[0m \u001b[32m━━━━━━━━━━━━━━━━━━━━\u001b[0m\u001b[37m\u001b[0m \u001b[1m0s\u001b[0m 10ms/step - accuracy: 0.9200 - loss: 0.2453 - val_accuracy: 0.9565 - val_loss: 0.2046\n",
      "Epoch 8/10\n",
      "\u001b[1m13/13\u001b[0m \u001b[32m━━━━━━━━━━━━━━━━━━━━\u001b[0m\u001b[37m\u001b[0m \u001b[1m0s\u001b[0m 10ms/step - accuracy: 0.9311 - loss: 0.2120 - val_accuracy: 0.9565 - val_loss: 0.1778\n",
      "Epoch 9/10\n",
      "\u001b[1m13/13\u001b[0m \u001b[32m━━━━━━━━━━━━━━━━━━━━\u001b[0m\u001b[37m\u001b[0m \u001b[1m0s\u001b[0m 10ms/step - accuracy: 0.9356 - loss: 0.1891 - val_accuracy: 0.9565 - val_loss: 0.1583\n",
      "Epoch 10/10\n",
      "\u001b[1m13/13\u001b[0m \u001b[32m━━━━━━━━━━━━━━━━━━━━\u001b[0m\u001b[37m\u001b[0m \u001b[1m0s\u001b[0m 10ms/step - accuracy: 0.9370 - loss: 0.1732 - val_accuracy: 1.0000 - val_loss: 0.1438\n"
     ]
    }
   ],
   "source": [
    "# training the Neural Network\n",
    "\n",
    "history = model.fit(X_train_std, Y_train_encoded, validation_split=0.1, epochs=10)"
   ]
  },
  {
   "cell_type": "code",
   "execution_count": 108,
   "id": "9f2bbd42-e6dd-4338-9f00-7d9b942ff773",
   "metadata": {},
   "outputs": [
    {
     "data": {
      "text/plain": [
       "<matplotlib.legend.Legend at 0x17c95c5c2f0>"
      ]
     },
     "execution_count": 108,
     "metadata": {},
     "output_type": "execute_result"
    },
    {
     "data": {
      "image/png": "[encoded data removed]",
      "text/plain": [
       "<Figure size 640x480 with 1 Axes>"
      ]
     },
     "metadata": {},
     "output_type": "display_data"
    }
   ],
   "source": [
    "plt.plot(history.history['accuracy'])\n",
    "plt.plot(history.history['val_accuracy'])\n",
    "\n",
    "plt.title('model accuracy')\n",
    "plt.ylabel('accuracy')\n",
    "plt.xlabel('epoch')\n",
    "\n",
    "plt.legend(['training data', 'validation data'], loc = 'lower right')"
   ]
  },
  {
   "cell_type": "code",
   "execution_count": 109,
   "id": "4c517b4f-9379-4497-8709-811a27797557",
   "metadata": {},
   "outputs": [
    {
     "data": {
      "text/plain": [
       "<matplotlib.legend.Legend at 0x17c96d2f320>"
      ]
     },
     "execution_count": 109,
     "metadata": {},
     "output_type": "execute_result"
    },
    {
     "data": {
      "image/png": "[encoded data removed]",
      "text/plain": [
       "<Figure size 640x480 with 1 Axes>"
      ]
     },
     "metadata": {},
     "output_type": "display_data"
    }
   ],
   "source": [
    "plt.plot(history.history['loss'])\n",
    "plt.plot(history.history['val_loss'])\n",
    "\n",
    "plt.title('model loss')\n",
    "plt.ylabel('loss')\n",
    "plt.xlabel('epoch')\n",
    "\n",
    "plt.legend(['training data', 'validation data'], loc = 'upper right')"
   ]
  },
  {
   "cell_type": "code",
   "execution_count": 110,
   "id": "b7049992-2fca-4286-accf-e25bf5c47ce1",
   "metadata": {},
   "outputs": [],
   "source": [
    "# Accuracy of the model on test data"
   ]
  },
  {
   "cell_type": "code",
   "execution_count": 111,
   "id": "36087709-b2ba-4e8c-9800-4e3b19f590be",
   "metadata": {},
   "outputs": [
    {
     "name": "stdout",
     "output_type": "stream",
     "text": [
      "\u001b[1m4/4\u001b[0m \u001b[32m━━━━━━━━━━━━━━━━━━━━\u001b[0m\u001b[37m\u001b[0m \u001b[1m0s\u001b[0m 18ms/step - accuracy: 0.8881 - loss: 0.2016\n",
      "0.8947368264198303\n"
     ]
    }
   ],
   "source": [
    "loss, accuracy = model.evaluate(X_test_std, Y_test_encoded)\n",
    "print(accuracy)"
   ]
  },
  {
   "cell_type": "code",
   "execution_count": 112,
   "id": "2bc69fed-9ab5-4f90-af7d-9b24c7d9a9e7",
   "metadata": {},
   "outputs": [
    {
     "name": "stdout",
     "output_type": "stream",
     "text": [
      "(114, 10)\n",
      "[-0.04462793 -0.05903514 -0.16234067  0.18500609  0.47102419 -0.32983699\n",
      " -0.36854552 -0.38767294 -0.54689089 -0.18278004]\n"
     ]
    }
   ],
   "source": [
    "print(X_test_std.shape)\n",
    "print(X_test_std[0])"
   ]
  },
  {
   "cell_type": "code",
   "execution_count": 113,
   "id": "d92687b4-9356-4127-a0ba-c340ca0cf1dd",
   "metadata": {},
   "outputs": [
    {
     "name": "stdout",
     "output_type": "stream",
     "text": [
      "\u001b[1m4/4\u001b[0m \u001b[32m━━━━━━━━━━━━━━━━━━━━\u001b[0m\u001b[37m\u001b[0m \u001b[1m0s\u001b[0m 29ms/step\n"
     ]
    }
   ],
   "source": [
    "Y_pred = model.predict(X_test_std)"
   ]
  },
  {
   "cell_type": "code",
   "execution_count": 114,
   "id": "6e1add6e-9c34-4d11-9bc9-13bc23eefbe4",
   "metadata": {},
   "outputs": [
    {
     "name": "stdout",
     "output_type": "stream",
     "text": [
      "(114, 2)\n",
      "[0.33676875 0.7400433 ]\n"
     ]
    }
   ],
   "source": [
    "print(Y_pred.shape)\n",
    "print(Y_pred[0])"
   ]
  },
  {
   "cell_type": "code",
   "execution_count": 115,
   "id": "d98de5bd-ff8f-40be-9529-44ca0bd91cb8",
   "metadata": {},
   "outputs": [
    {
     "name": "stdout",
     "output_type": "stream",
     "text": [
      "[[-0.04462793 -0.05903514 -0.16234067 ... -0.38767294 -0.54689089\n",
      "  -0.18278004]\n",
      " [ 0.24583601  0.21802678  0.10121824 ... -0.10539076 -0.42866144\n",
      "   0.54129749]\n",
      " [-1.26115925 -1.26499659 -1.03398179 ... -0.88026887 -0.98993767\n",
      "  -1.35138617]\n",
      " ...\n",
      " [ 0.72709489  0.75277276  0.71637776 ...  2.42919657  0.9664461\n",
      "   1.46701686]\n",
      " [ 0.25437907  0.15659489  0.13377386 ... -0.30560368 -1.18349617\n",
      "  -1.29043534]\n",
      " [ 0.84100232  0.8929529   0.68920091 ...  0.57857986  1.12231594\n",
      "   2.15137705]]\n"
     ]
    }
   ],
   "source": [
    "print(X_test_std)"
   ]
  },
  {
   "cell_type": "code",
   "execution_count": 116,
   "id": "0fea9e43-cc26-4959-a76c-5557f5f170ba",
   "metadata": {},
   "outputs": [
    {
     "name": "stdout",
     "output_type": "stream",
     "text": [
      "[[0.33676875 0.7400433 ]\n",
      " [0.46633548 0.6185117 ]\n",
      " [0.11368809 0.9892956 ]\n",
      " [0.89268434 0.0756515 ]\n",
      " [0.5479456  0.44224113]\n",
      " [0.8002327  0.22175725]\n",
      " [0.24111459 0.9010561 ]\n",
      " [0.28873068 0.96333957]\n",
      " [0.24052043 0.9219848 ]\n",
      " [0.3960911  0.82587326]\n",
      " [0.5520172  0.5700315 ]\n",
      " [0.22203355 0.89968944]\n",
      " [0.14822246 0.9525817 ]\n",
      " [0.25988555 0.9087223 ]\n",
      " [0.18414631 0.96631986]\n",
      " [0.7728591  0.30515313]\n",
      " [0.16387849 0.96341014]\n",
      " [0.1781266  0.94121385]\n",
      " [0.19037735 0.9652439 ]\n",
      " [0.71763825 0.24936064]\n",
      " [0.1964007  0.4784343 ]\n",
      " [0.19261234 0.9627868 ]\n",
      " [0.2949153  0.8864973 ]\n",
      " [0.22525646 0.9625889 ]\n",
      " [0.4254396  0.71685255]\n",
      " [0.81083876 0.24418394]\n",
      " [0.3721904  0.8681994 ]\n",
      " [0.5340147  0.5326439 ]\n",
      " [0.82770467 0.29832202]\n",
      " [0.8240139  0.29257026]\n",
      " [0.57184017 0.49221602]\n",
      " [0.25337717 0.91163856]\n",
      " [0.28920427 0.899098  ]\n",
      " [0.8219377  0.25250813]\n",
      " [0.8040339  0.18143237]\n",
      " [0.272865   0.81720996]\n",
      " [0.2636602  0.9706919 ]\n",
      " [0.4042788  0.80231196]\n",
      " [0.10857191 0.9851194 ]\n",
      " [0.12011329 0.9582481 ]\n",
      " [0.85527134 0.11692368]\n",
      " [0.63180125 0.38357544]\n",
      " [0.1441394  0.9893122 ]\n",
      " [0.1219044  0.9600211 ]\n",
      " [0.47960538 0.3930868 ]\n",
      " [0.19356523 0.9492628 ]\n",
      " [0.07118611 0.98889184]\n",
      " [0.14654543 0.9869912 ]\n",
      " [0.8666074  0.24096243]\n",
      " [0.74561095 0.26348183]\n",
      " [0.44092667 0.764047  ]\n",
      " [0.7344432  0.30067515]\n",
      " [0.63567734 0.47321394]\n",
      " [0.18890971 0.96797884]\n",
      " [0.10937095 0.987112  ]\n",
      " [0.5837059  0.41406453]\n",
      " [0.21545376 0.9532174 ]\n",
      " [0.10491169 0.9909059 ]\n",
      " [0.31672487 0.4021843 ]\n",
      " [0.1804651  0.92917484]\n",
      " [0.35570005 0.7702361 ]\n",
      " [0.5623172  0.22532736]\n",
      " [0.1625383  0.9620113 ]\n",
      " [0.692296   0.23216496]\n",
      " [0.8147526  0.29620284]\n",
      " [0.49700844 0.31769586]\n",
      " [0.81175125 0.21396416]\n",
      " [0.7197993  0.27285329]\n",
      " [0.6904119  0.4496852 ]\n",
      " [0.3305446  0.51754475]\n",
      " [0.65090066 0.2672465 ]\n",
      " [0.72694695 0.25229007]\n",
      " [0.28242806 0.9052495 ]\n",
      " [0.6024478  0.33509967]\n",
      " [0.11847593 0.9892103 ]\n",
      " [0.56365466 0.37112686]\n",
      " [0.08797143 0.9892937 ]\n",
      " [0.19573194 0.93988144]\n",
      " [0.48469627 0.6689532 ]\n",
      " [0.5169616  0.41945568]\n",
      " [0.8320073  0.18506184]\n",
      " [0.59315205 0.36339685]\n",
      " [0.6292544  0.29211456]\n",
      " [0.24228826 0.87713426]\n",
      " [0.20132801 0.95797354]\n",
      " [0.6345197  0.4748668 ]\n",
      " [0.15612909 0.90086967]\n",
      " [0.23132129 0.948037  ]\n",
      " [0.31592304 0.8067198 ]\n",
      " [0.63826525 0.22278307]\n",
      " [0.19638045 0.9245189 ]\n",
      " [0.4931151  0.66280544]\n",
      " [0.19952367 0.8890876 ]\n",
      " [0.79252326 0.23480488]\n",
      " [0.61454344 0.4038897 ]\n",
      " [0.32583687 0.86961186]\n",
      " [0.80364656 0.18413211]\n",
      " [0.696988   0.26298255]\n",
      " [0.29510182 0.9185483 ]\n",
      " [0.1983064  0.9769865 ]\n",
      " [0.15189517 0.9863568 ]\n",
      " [0.4880912  0.4561613 ]\n",
      " [0.89728695 0.18353917]\n",
      " [0.8757864  0.11706282]\n",
      " [0.2789508  0.9427978 ]\n",
      " [0.11054303 0.9741986 ]\n",
      " [0.08431608 0.97958064]\n",
      " [0.06613737 0.97841966]\n",
      " [0.05739078 0.99693835]\n",
      " [0.22542776 0.96171385]\n",
      " [0.8551395  0.18824035]\n",
      " [0.6671864  0.28827402]\n",
      " [0.34693334 0.9037734 ]\n",
      " [0.70559394 0.27434272]]\n"
     ]
    }
   ],
   "source": [
    "print(Y_pred)"
   ]
  },
  {
   "cell_type": "code",
   "execution_count": 117,
   "id": "9891bb17-fbbd-4497-af36-2d8ca86d15aa",
   "metadata": {},
   "outputs": [],
   "source": [
    "# model.predict() gives the prediction probability of each class for that data point"
   ]
  },
  {
   "cell_type": "code",
   "execution_count": 118,
   "id": "1abb5808-a1cb-4510-9d7d-093ad5651a99",
   "metadata": {},
   "outputs": [
    {
     "name": "stdout",
     "output_type": "stream",
     "text": [
      "[0.25, 0.56]\n",
      "1\n"
     ]
    }
   ],
   "source": [
    "#  argmax function\n",
    "\n",
    "my_list = [0.25, 0.56]\n",
    "\n",
    "index_of_max_value = np.argmax(my_list)\n",
    "print(my_list)\n",
    "print(index_of_max_value)"
   ]
  },
  {
   "cell_type": "code",
   "execution_count": 119,
   "id": "abceb093-9b2a-4ef8-87b5-cea12d466862",
   "metadata": {},
   "outputs": [
    {
     "name": "stdout",
     "output_type": "stream",
     "text": [
      "[1, 1, 1, 0, 0, 0, 1, 1, 1, 1, 1, 1, 1, 1, 1, 0, 1, 1, 1, 0, 1, 1, 1, 1, 1, 0, 1, 0, 0, 0, 0, 1, 1, 0, 0, 1, 1, 1, 1, 1, 0, 0, 1, 1, 0, 1, 1, 1, 0, 0, 1, 0, 0, 1, 1, 0, 1, 1, 1, 1, 1, 0, 1, 0, 0, 0, 0, 0, 0, 1, 0, 0, 1, 0, 1, 0, 1, 1, 1, 0, 0, 0, 0, 1, 1, 0, 1, 1, 1, 0, 1, 1, 1, 0, 0, 1, 0, 0, 1, 1, 1, 0, 0, 0, 1, 1, 1, 1, 1, 1, 0, 0, 1, 0]\n"
     ]
    }
   ],
   "source": [
    "# converting the prediction probability to class labels\n",
    "\n",
    "Y_pred_labels = [np.argmax(i) for i in Y_pred]\n",
    "print(Y_pred_labels)"
   ]
  },
  {
   "cell_type": "code",
   "execution_count": 120,
   "id": "b0896972-7f51-45ac-b2cb-88f81ec640f9",
   "metadata": {},
   "outputs": [],
   "source": [
    "# Building the predictive system"
   ]
  },
  {
   "cell_type": "code",
   "execution_count": 121,
   "id": "2f9a88da-67b5-4f53-a2fa-beee7a27c40d",
   "metadata": {},
   "outputs": [
    {
     "name": "stdout",
     "output_type": "stream",
     "text": [
      "\u001b[1m1/1\u001b[0m \u001b[32m━━━━━━━━━━━━━━━━━━━━\u001b[0m\u001b[37m\u001b[0m \u001b[1m0s\u001b[0m 69ms/step\n",
      "[[0.06279164 0.9969132 ]]\n",
      "[1]\n",
      "The tumor is Benign\n"
     ]
    },
    {
     "name": "stderr",
     "output_type": "stream",
     "text": [
      "C:\\ProgramData\\anaconda3\\Lib\\site-packages\\sklearn\\base.py:493: UserWarning: X does not have valid feature names, but StandardScaler was fitted with feature names\n",
      "  warnings.warn(\n"
     ]
    }
   ],
   "source": [
    "#input_data = (11.76,21.6,74.72,427.9,0.08637,0.04966,0.01657,0.01115,0.1495,0.05888,0.4062,1.21,2.635,28.47,0.005857,0.009758,0.01168,0.007445,0.02406,0.001769,12.98,25.72,82.98,516.5,0.1085,0.08615,0.05523,0.03715,0.2433,0.06563)\n",
    "input_data = (7.76,\t47.92,\t181.0\t,0.00000,\t0.00000,\t9.456,\t59.16,\t268.6,\t0.0000\t,0.0000)\n",
    "# change the input_data to a numpy array\n",
    "input_data_as_numpy_array = np.asarray(input_data)\n",
    "\n",
    "# reshape the numpy array as we are predicting for one data point\n",
    "input_data_reshaped = input_data_as_numpy_array.reshape(1,-1)\n",
    "\n",
    "# standardizing the input data\n",
    "input_data_std = scaler.transform(input_data_reshaped)\n",
    "\n",
    "prediction = model.predict(input_data_std)\n",
    "print(prediction)\n",
    "\n",
    "prediction_label = [np.argmax(prediction)]\n",
    "print(prediction_label)\n",
    "\n",
    "if(prediction_label[0] == 0):\n",
    "  print('The tumor is Malignant')\n",
    "\n",
    "else:\n",
    "  print('The tumor is Benign')"
   ]
  },
  {
   "cell_type": "code",
   "execution_count": 199,
   "id": "06d417ba-21e0-4481-8476-089650fe4e3f",
   "metadata": {},
   "outputs": [
    {
     "name": "stderr",
     "output_type": "stream",
     "text": [
      "WARNING:absl:You are saving your model as an HDF5 file via `model.save()` or `keras.saving.save_model(model)`. This file format is considered legacy. We recommend using instead the native Keras format, e.g. `model.save('my_model.keras')` or `keras.saving.save_model(model, 'my_model.keras')`. \n"
     ]
    }
   ],
   "source": [
    "# save the model\n",
    "model.save(\"Breast_Cancer_Model.keras\")"
   ]
  },
  {
   "cell_type": "code",
   "execution_count": 51,
   "id": "7db48de4-55e7-4cec-ba57-d92cc6cf0bbf",
   "metadata": {},
   "outputs": [
    {
     "data": {
      "text/plain": [
       "['scaler.pkl']"
      ]
     },
     "execution_count": 51,
     "metadata": {},
     "output_type": "execute_result"
    }
   ],
   "source": [
    "import joblib\n",
    "joblib.dump(scaler, 'scaler.pkl')"
   ]
  },
  {
   "cell_type": "code",
   "execution_count": 68,
   "id": "638815f1-1634-4b46-9f97-df1f832fb6e7",
   "metadata": {},
   "outputs": [],
   "source": []
  },
  {
   "cell_type": "code",
   "execution_count": null,
   "id": "1904e32c-cd16-4303-8ea1-26795780ee54",
   "metadata": {},
   "outputs": [],
   "source": []
  },
  {
   "cell_type": "code",
   "execution_count": 62,
   "id": "66a36d4b-2eec-43f1-ab8e-c7f8d9bac1b9",
   "metadata": {},
   "outputs": [
    {
     "name": "stdout",
     "output_type": "stream",
     "text": [
      "[1.40967165e+01 9.17418681e+01 6.51545495e+02 8.66998455e-02\n",
      " 4.79859363e-02 1.61836747e+01 1.06662000e+02 8.68229670e+02\n",
      " 2.69229011e-01 1.13465257e-01]\n"
     ]
    }
   ],
   "source": [
    "print(scaler.mean_)"
   ]
  },
  {
   "cell_type": "code",
   "execution_count": null,
   "id": "def87a77-14e9-4ef7-a9f8-f20104612a9f",
   "metadata": {},
   "outputs": [],
   "source": []
  },
  {
   "cell_type": "code",
   "execution_count": 71,
   "id": "3cc536d0-b4dc-4914-82ea-5848f2db3f29",
   "metadata": {},
   "outputs": [],
   "source": [
    "data_frame.to_csv('Cleaned_Brest_Cancer_data.csv')"
   ]
  },
  {
   "cell_type": "code",
   "execution_count": null,
   "id": "77cfb85d-beea-4381-921f-d47ae8dce224",
   "metadata": {},
   "outputs": [],
   "source": []
  }
 ],
 "metadata": {
  "kernelspec": {
   "display_name": "Python 3 (ipykernel)",
   "language": "python",
   "name": "python3"
  },
  "language_info": {
   "codemirror_mode": {
    "name": "ipython",
    "version": 3
   },
   "file_extension": ".py",
   "mimetype": "text/x-python",
   "name": "python",
   "nbconvert_exporter": "python",
   "pygments_lexer": "ipython3",
   "version": "3.12.7"
  }
 },
 "nbformat": 4,
 "nbformat_minor": 5
}
